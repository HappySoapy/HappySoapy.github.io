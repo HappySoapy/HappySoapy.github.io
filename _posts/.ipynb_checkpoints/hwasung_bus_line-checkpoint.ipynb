{
 "cells": [
  {
   "cell_type": "markdown",
   "metadata": {},
   "source": [
    "* 화성시에서 제공한 \"moc_link_2018.geojson\" 파일은 수정해야 할 노드가 많았다.\n",
    "* 따라서 가장 최신의 도로 네트워크 자료를 찾아서 최대한 수정을 적게 하는 방향으로 가려고 한다."
   ]
  },
  {
   "cell_type": "markdown",
   "metadata": {},
   "source": [
    "# 1. 표준 노드 링크 파일 가공"
   ]
  },
  {
   "cell_type": "markdown",
   "metadata": {},
   "source": [
    "## 1. 데이터 다운로드"
   ]
  },
  {
   "cell_type": "markdown",
   "metadata": {},
   "source": [
    "#### 1. ITF에 접속해서 전국 표준 노드 링크 파일을 다운받는다.  \n",
    "다운받은 파일은 shp 형태이므로 geojson으로 변환해줄 필요가 있다."
   ]
  },
  {
   "cell_type": "markdown",
   "metadata": {},
   "source": [
    "<p>\n",
    "<img src=\"post1/ITS 국가교통정보센터.png\" width=\"400\" height=\"100\" align=\"center\">\n",
    "</p>"
   ]
  },
  {
   "cell_type": "markdown",
   "metadata": {},
   "source": [
    "#### 2. 다운 받은 파일을 QGIS에 올린 후 geojson 파일로 변환한다."
   ]
  },
  {
   "cell_type": "markdown",
   "metadata": {},
   "source": [
    "<p>\n",
    "<img src=\"post1/qgis에 shp 올리기.png\" width=\"400\" height=\"100\" align=\"center\">\n",
    "</p>"
   ]
  },
  {
   "cell_type": "markdown",
   "metadata": {},
   "source": [
    "## 2. 데이터 정제"
   ]
  },
  {
   "cell_type": "code",
   "execution_count": 1,
   "metadata": {},
   "outputs": [
    {
     "name": "stderr",
     "output_type": "stream",
     "text": [
      "/opt/app-root/lib/python3.6/site-packages/geopandas/_compat.py:110: UserWarning: The Shapely GEOS version (3.8.0-CAPI-1.13.1 ) is incompatible with the GEOS version PyGEOS was compiled with (3.9.0-CAPI-1.16.2). Conversions between both will be slow.\n",
      "  shapely_geos_version, geos_capi_version_string\n"
     ]
    }
   ],
   "source": [
    "import numpy as np\n",
    "import pandas as pd\n",
    "\n",
    "import geopandas as gpd"
   ]
  },
  {
   "cell_type": "code",
   "execution_count": 2,
   "metadata": {},
   "outputs": [],
   "source": [
    "link_df = gpd.read_file('moct_link_2021.geojson')\n",
    "node_df = gpd.read_file('moct_node_2021.geojson')"
   ]
  },
  {
   "cell_type": "markdown",
   "metadata": {},
   "source": [
    "* 필요한 열만 가져온다."
   ]
  },
  {
   "cell_type": "code",
   "execution_count": 3,
   "metadata": {},
   "outputs": [],
   "source": [
    "link_df = link_df[['LINK_ID', 'F_NODE', 'T_NODE', 'LENGTH', 'geometry']]"
   ]
  },
  {
   "cell_type": "markdown",
   "metadata": {},
   "source": [
    "* 전국의 노드이므로 화성시만 추출한다.\n",
    "* 화성시는 id 앞에 233으로 시작한다."
   ]
  },
  {
   "cell_type": "code",
   "execution_count": 4,
   "metadata": {},
   "outputs": [
    {
     "data": {
      "text/html": [
       "<div>\n",
       "<style scoped>\n",
       "    .dataframe tbody tr th:only-of-type {\n",
       "        vertical-align: middle;\n",
       "    }\n",
       "\n",
       "    .dataframe tbody tr th {\n",
       "        vertical-align: top;\n",
       "    }\n",
       "\n",
       "    .dataframe thead th {\n",
       "        text-align: right;\n",
       "    }\n",
       "</style>\n",
       "<table border=\"1\" class=\"dataframe\">\n",
       "  <thead>\n",
       "    <tr style=\"text-align: right;\">\n",
       "      <th></th>\n",
       "      <th>NODE_ID</th>\n",
       "      <th>geometry</th>\n",
       "    </tr>\n",
       "  </thead>\n",
       "  <tbody>\n",
       "    <tr>\n",
       "      <th>0</th>\n",
       "      <td>2330015400</td>\n",
       "      <td>POINT (127.03028 37.20909)</td>\n",
       "    </tr>\n",
       "    <tr>\n",
       "      <th>1</th>\n",
       "      <td>2330020005</td>\n",
       "      <td>POINT (126.95123 37.22193)</td>\n",
       "    </tr>\n",
       "    <tr>\n",
       "      <th>2</th>\n",
       "      <td>2330020702</td>\n",
       "      <td>POINT (126.94803 37.22376)</td>\n",
       "    </tr>\n",
       "  </tbody>\n",
       "</table>\n",
       "</div>"
      ],
      "text/plain": [
       "      NODE_ID                    geometry\n",
       "0  2330015400  POINT (127.03028 37.20909)\n",
       "1  2330020005  POINT (126.95123 37.22193)\n",
       "2  2330020702  POINT (126.94803 37.22376)"
      ]
     },
     "execution_count": 4,
     "metadata": {},
     "output_type": "execute_result"
    }
   ],
   "source": [
    "link_df_new = link_df[link_df['LINK_ID'].str.startswith('233')].reset_index(drop = True)\n",
    "node_df_new = node_df[node_df['NODE_ID'].str.startswith('233')][['NODE_ID', 'geometry']].reset_index(drop = True)\n",
    "node_df_new.head(3)"
   ]
  },
  {
   "cell_type": "markdown",
   "metadata": {},
   "source": [
    "* node_df_new의 geometry는 (경,위도) 점으로 이루어져 있다. 경도, 위도만 따로 추출하자."
   ]
  },
  {
   "cell_type": "code",
   "execution_count": 5,
   "metadata": {},
   "outputs": [
    {
     "data": {
      "text/html": [
       "<div>\n",
       "<style scoped>\n",
       "    .dataframe tbody tr th:only-of-type {\n",
       "        vertical-align: middle;\n",
       "    }\n",
       "\n",
       "    .dataframe tbody tr th {\n",
       "        vertical-align: top;\n",
       "    }\n",
       "\n",
       "    .dataframe thead th {\n",
       "        text-align: right;\n",
       "    }\n",
       "</style>\n",
       "<table border=\"1\" class=\"dataframe\">\n",
       "  <thead>\n",
       "    <tr style=\"text-align: right;\">\n",
       "      <th></th>\n",
       "      <th>NODE_ID</th>\n",
       "      <th>geometry</th>\n",
       "      <th>lon</th>\n",
       "      <th>lat</th>\n",
       "    </tr>\n",
       "  </thead>\n",
       "  <tbody>\n",
       "    <tr>\n",
       "      <th>0</th>\n",
       "      <td>2330015400</td>\n",
       "      <td>POINT (127.03028 37.20909)</td>\n",
       "      <td>127.030284</td>\n",
       "      <td>37.209088</td>\n",
       "    </tr>\n",
       "    <tr>\n",
       "      <th>1</th>\n",
       "      <td>2330020005</td>\n",
       "      <td>POINT (126.95123 37.22193)</td>\n",
       "      <td>126.951226</td>\n",
       "      <td>37.221933</td>\n",
       "    </tr>\n",
       "    <tr>\n",
       "      <th>2</th>\n",
       "      <td>2330020702</td>\n",
       "      <td>POINT (126.94803 37.22376)</td>\n",
       "      <td>126.948026</td>\n",
       "      <td>37.223757</td>\n",
       "    </tr>\n",
       "  </tbody>\n",
       "</table>\n",
       "</div>"
      ],
      "text/plain": [
       "      NODE_ID                    geometry         lon        lat\n",
       "0  2330015400  POINT (127.03028 37.20909)  127.030284  37.209088\n",
       "1  2330020005  POINT (126.95123 37.22193)  126.951226  37.221933\n",
       "2  2330020702  POINT (126.94803 37.22376)  126.948026  37.223757"
      ]
     },
     "execution_count": 5,
     "metadata": {},
     "output_type": "execute_result"
    }
   ],
   "source": [
    "lon = []\n",
    "lat = []\n",
    "for rows in range(len(node_df_new)) :\n",
    "    lon.append(list(node_df_new['geometry'][rows].coords[0])[0])\n",
    "    lat.append(list(node_df_new['geometry'][rows].coords[0])[1])\n",
    "    \n",
    "node_df_new['lon'] = lon\n",
    "node_df_new['lat'] = lat\n",
    "\n",
    "node_df_new.head(3)"
   ]
  },
  {
   "cell_type": "code",
   "execution_count": 6,
   "metadata": {},
   "outputs": [
    {
     "data": {
      "text/html": [
       "<div>\n",
       "<style scoped>\n",
       "    .dataframe tbody tr th:only-of-type {\n",
       "        vertical-align: middle;\n",
       "    }\n",
       "\n",
       "    .dataframe tbody tr th {\n",
       "        vertical-align: top;\n",
       "    }\n",
       "\n",
       "    .dataframe thead th {\n",
       "        text-align: right;\n",
       "    }\n",
       "</style>\n",
       "<table border=\"1\" class=\"dataframe\">\n",
       "  <thead>\n",
       "    <tr style=\"text-align: right;\">\n",
       "      <th></th>\n",
       "      <th>LINK_ID</th>\n",
       "      <th>F_NODE</th>\n",
       "      <th>T_NODE</th>\n",
       "      <th>LENGTH</th>\n",
       "      <th>geometry_x</th>\n",
       "      <th>lon</th>\n",
       "      <th>lat</th>\n",
       "    </tr>\n",
       "  </thead>\n",
       "  <tbody>\n",
       "    <tr>\n",
       "      <th>0</th>\n",
       "      <td>2334338501</td>\n",
       "      <td>2330512701</td>\n",
       "      <td>2330515401</td>\n",
       "      <td>213.408206</td>\n",
       "      <td>MULTILINESTRING ((127.02704 37.20789, 127.0280...</td>\n",
       "      <td>127.027126</td>\n",
       "      <td>37.207922</td>\n",
       "    </tr>\n",
       "    <tr>\n",
       "      <th>1</th>\n",
       "      <td>2334328201</td>\n",
       "      <td>2330512701</td>\n",
       "      <td>2330014302</td>\n",
       "      <td>298.564290</td>\n",
       "      <td>MULTILINESTRING ((127.02710 37.20797, 127.0248...</td>\n",
       "      <td>127.027126</td>\n",
       "      <td>37.207922</td>\n",
       "    </tr>\n",
       "    <tr>\n",
       "      <th>2</th>\n",
       "      <td>2334328301</td>\n",
       "      <td>2330512701</td>\n",
       "      <td>2330015200</td>\n",
       "      <td>102.049639</td>\n",
       "      <td>MULTILINESTRING ((127.02715 37.20787, 127.0281...</td>\n",
       "      <td>127.027126</td>\n",
       "      <td>37.207922</td>\n",
       "    </tr>\n",
       "  </tbody>\n",
       "</table>\n",
       "</div>"
      ],
      "text/plain": [
       "      LINK_ID      F_NODE      T_NODE      LENGTH  \\\n",
       "0  2334338501  2330512701  2330515401  213.408206   \n",
       "1  2334328201  2330512701  2330014302  298.564290   \n",
       "2  2334328301  2330512701  2330015200  102.049639   \n",
       "\n",
       "                                          geometry_x         lon        lat  \n",
       "0  MULTILINESTRING ((127.02704 37.20789, 127.0280...  127.027126  37.207922  \n",
       "1  MULTILINESTRING ((127.02710 37.20797, 127.0248...  127.027126  37.207922  \n",
       "2  MULTILINESTRING ((127.02715 37.20787, 127.0281...  127.027126  37.207922  "
      ]
     },
     "execution_count": 6,
     "metadata": {},
     "output_type": "execute_result"
    }
   ],
   "source": [
    "merge_df = pd.merge(link_df_new, node_df_new, left_on = 'F_NODE', right_on = 'NODE_ID').drop(['NODE_ID', 'geometry_y'], axis = 1)\n",
    "merge_df.head(3)"
   ]
  },
  {
   "cell_type": "code",
   "execution_count": 7,
   "metadata": {
    "scrolled": true
   },
   "outputs": [
    {
     "name": "stdout",
     "output_type": "stream",
     "text": [
      "(11071, 9)\n"
     ]
    },
    {
     "data": {
      "text/html": [
       "<div>\n",
       "<style scoped>\n",
       "    .dataframe tbody tr th:only-of-type {\n",
       "        vertical-align: middle;\n",
       "    }\n",
       "\n",
       "    .dataframe tbody tr th {\n",
       "        vertical-align: top;\n",
       "    }\n",
       "\n",
       "    .dataframe thead th {\n",
       "        text-align: right;\n",
       "    }\n",
       "</style>\n",
       "<table border=\"1\" class=\"dataframe\">\n",
       "  <thead>\n",
       "    <tr style=\"text-align: right;\">\n",
       "      <th></th>\n",
       "      <th>LINK_ID</th>\n",
       "      <th>F_NODE</th>\n",
       "      <th>T_NODE</th>\n",
       "      <th>LENGTH</th>\n",
       "      <th>geometry_x</th>\n",
       "      <th>lon_f</th>\n",
       "      <th>lat_f</th>\n",
       "      <th>lon_t</th>\n",
       "      <th>lat_t</th>\n",
       "    </tr>\n",
       "  </thead>\n",
       "  <tbody>\n",
       "    <tr>\n",
       "      <th>0</th>\n",
       "      <td>2334338501</td>\n",
       "      <td>2330512701</td>\n",
       "      <td>2330515401</td>\n",
       "      <td>213.408206</td>\n",
       "      <td>MULTILINESTRING ((127.02704 37.20789, 127.0280...</td>\n",
       "      <td>127.027126</td>\n",
       "      <td>37.207922</td>\n",
       "      <td>127.028098</td>\n",
       "      <td>37.206159</td>\n",
       "    </tr>\n",
       "    <tr>\n",
       "      <th>1</th>\n",
       "      <td>2334337201</td>\n",
       "      <td>2330515101</td>\n",
       "      <td>2330515401</td>\n",
       "      <td>187.255507</td>\n",
       "      <td>MULTILINESTRING ((127.02903 37.20464, 127.0281...</td>\n",
       "      <td>127.028958</td>\n",
       "      <td>37.204614</td>\n",
       "      <td>127.028098</td>\n",
       "      <td>37.206159</td>\n",
       "    </tr>\n",
       "    <tr>\n",
       "      <th>2</th>\n",
       "      <td>2334338401</td>\n",
       "      <td>2330515801</td>\n",
       "      <td>2330515401</td>\n",
       "      <td>66.966409</td>\n",
       "      <td>MULTILINESTRING ((127.02876 37.20647, 127.0280...</td>\n",
       "      <td>127.028790</td>\n",
       "      <td>37.206410</td>\n",
       "      <td>127.028098</td>\n",
       "      <td>37.206159</td>\n",
       "    </tr>\n",
       "  </tbody>\n",
       "</table>\n",
       "</div>"
      ],
      "text/plain": [
       "      LINK_ID      F_NODE      T_NODE      LENGTH  \\\n",
       "0  2334338501  2330512701  2330515401  213.408206   \n",
       "1  2334337201  2330515101  2330515401  187.255507   \n",
       "2  2334338401  2330515801  2330515401   66.966409   \n",
       "\n",
       "                                          geometry_x       lon_f      lat_f  \\\n",
       "0  MULTILINESTRING ((127.02704 37.20789, 127.0280...  127.027126  37.207922   \n",
       "1  MULTILINESTRING ((127.02903 37.20464, 127.0281...  127.028958  37.204614   \n",
       "2  MULTILINESTRING ((127.02876 37.20647, 127.0280...  127.028790  37.206410   \n",
       "\n",
       "        lon_t      lat_t  \n",
       "0  127.028098  37.206159  \n",
       "1  127.028098  37.206159  \n",
       "2  127.028098  37.206159  "
      ]
     },
     "execution_count": 7,
     "metadata": {},
     "output_type": "execute_result"
    }
   ],
   "source": [
    "real_merge = pd.merge(merge_df, node_df_new, left_on='T_NODE', right_on='NODE_ID', \n",
    "                      suffixes=('_f', '_t')).drop(['NODE_ID', 'geometry'], axis = 1)\n",
    "print(real_merge.shape)\n",
    "real_merge.head(3)"
   ]
  },
  {
   "cell_type": "code",
   "execution_count": 8,
   "metadata": {},
   "outputs": [],
   "source": [
    "real_merge.rename(columns = {'geometry_x' : 'geometry'}, inplace = True)"
   ]
  },
  {
   "cell_type": "markdown",
   "metadata": {},
   "source": [
    "* 'geometry'를 리스트형태로 바꿔줘야 시각화가 가능므로 바꾼다."
   ]
  },
  {
   "cell_type": "code",
   "execution_count": 9,
   "metadata": {},
   "outputs": [],
   "source": [
    "ret = []\n",
    "geo = real_merge['geometry']\n",
    "for x in geo:\n",
    "    first = []\n",
    "    for j in range(len(x[0].coords)) :\n",
    "            first.append(list(list(x[0].coords)[j]))\n",
    "            \n",
    "    ret.append(first)\n",
    "\n",
    "real_merge['geo'] = ret"
   ]
  },
  {
   "cell_type": "markdown",
   "metadata": {},
   "source": [
    "## 3. 시각화"
   ]
  },
  {
   "cell_type": "code",
   "execution_count": 10,
   "metadata": {},
   "outputs": [],
   "source": [
    "import osmnx as ox\n",
    "import networkx as nx\n",
    "\n",
    "import pydeck as pdk"
   ]
  },
  {
   "cell_type": "code",
   "execution_count": 11,
   "metadata": {
    "scrolled": false
   },
   "outputs": [],
   "source": [
    "layer_line = pdk.Layer(\n",
    "    'PathLayer',\n",
    "    real_merge,\n",
    "    get_path='geo',\n",
    "    get_width= 2,\n",
    "    get_color='[255, 221, 0]',\n",
    "    pickable=True,\n",
    "    auto_highlight=True\n",
    ")\n",
    "\n",
    "layer_f_node = pdk.Layer(\n",
    "    'ScatterplotLayer',\n",
    "    real_merge,\n",
    "    get_position='[lon_f, lat_f]',\n",
    "    get_radius= 5,\n",
    "    get_color='[255, 221, 0]',\n",
    "    pickable=True,\n",
    "    auto_highlight=True\n",
    ")\n",
    "\n",
    "layer_t_node = pdk.Layer(\n",
    "    'ScatterplotLayer',\n",
    "    real_merge,\n",
    "    get_position='[lon_t, lat_t]',\n",
    "    get_radius= 5,\n",
    "    get_color='[255, 221, 220]',\n",
    "    pickable=True,\n",
    "    auto_highlight=True\n",
    ")\n",
    "\n",
    "center = [126.908, 37.132]\n",
    "view_state = pdk.ViewState(\n",
    "    longitude=center[0],\n",
    "    latitude=center[1],\n",
    "    zoom=10)\n",
    "\n",
    "r = pdk.Deck(layers=[layer_line, layer_f_node, layer_t_node], initial_view_state=view_state, \n",
    "             mapbox_key = 'pk.eyJ1Ijoid293bmRkbDE2IiwiYSI6ImNrdHA1YXlvODBqODkyeG8zcHV3bTV3b2QifQ.uEqIwnfKUDUHuiH5epXfog')\n",
    "# r.to_html('layer_line.html')"
   ]
  },
  {
   "cell_type": "markdown",
   "metadata": {},
   "source": [
    "* geojson파일로 만들려면 리스트형이 없어야 하므로 드랍시킨다."
   ]
  },
  {
   "cell_type": "code",
   "execution_count": 12,
   "metadata": {},
   "outputs": [],
   "source": [
    "real_merge.drop('geo', inplace = True, axis = 1)"
   ]
  },
  {
   "cell_type": "code",
   "execution_count": 13,
   "metadata": {
    "scrolled": true
   },
   "outputs": [],
   "source": [
    "real_merge.to_file('moc_2021.geojson', driver=\"GeoJSON\")  "
   ]
  },
  {
   "cell_type": "markdown",
   "metadata": {},
   "source": [
    "## 4. Multilinestring의 위/경도를 분리하기"
   ]
  },
  {
   "cell_type": "markdown",
   "metadata": {},
   "source": [
    "* Multilinestring을 보면 여러 개의 점으로 이어진 선이라는 것을 알 수 있다. Multilinestring을 점들로 분리하자."
   ]
  },
  {
   "cell_type": "markdown",
   "metadata": {},
   "source": [
    "<p>\n",
    "<img src=\"post1/multilinestring to dot.png\" width=\"500\" height=\"300\" align=\"center\">\n",
    "</p>"
   ]
  },
  {
   "cell_type": "code",
   "execution_count": 14,
   "metadata": {},
   "outputs": [],
   "source": [
    "from geopy import distance\n",
    "from tqdm import tqdm"
   ]
  },
  {
   "cell_type": "code",
   "execution_count": 15,
   "metadata": {},
   "outputs": [
    {
     "data": {
      "text/html": [
       "<div>\n",
       "<style scoped>\n",
       "    .dataframe tbody tr th:only-of-type {\n",
       "        vertical-align: middle;\n",
       "    }\n",
       "\n",
       "    .dataframe tbody tr th {\n",
       "        vertical-align: top;\n",
       "    }\n",
       "\n",
       "    .dataframe thead th {\n",
       "        text-align: right;\n",
       "    }\n",
       "</style>\n",
       "<table border=\"1\" class=\"dataframe\">\n",
       "  <thead>\n",
       "    <tr style=\"text-align: right;\">\n",
       "      <th></th>\n",
       "      <th>LINK_ID</th>\n",
       "      <th>F_NODE</th>\n",
       "      <th>T_NODE</th>\n",
       "      <th>LENGTH</th>\n",
       "      <th>lon_f</th>\n",
       "      <th>lat_f</th>\n",
       "      <th>lon_t</th>\n",
       "      <th>lat_t</th>\n",
       "      <th>geometry</th>\n",
       "    </tr>\n",
       "  </thead>\n",
       "  <tbody>\n",
       "    <tr>\n",
       "      <th>0</th>\n",
       "      <td>2334338501</td>\n",
       "      <td>2330512701</td>\n",
       "      <td>2330515401</td>\n",
       "      <td>213.408206</td>\n",
       "      <td>127.027126</td>\n",
       "      <td>37.207922</td>\n",
       "      <td>127.028098</td>\n",
       "      <td>37.206159</td>\n",
       "      <td>MULTILINESTRING ((127.02704 37.20789, 127.0280...</td>\n",
       "    </tr>\n",
       "    <tr>\n",
       "      <th>1</th>\n",
       "      <td>2334337201</td>\n",
       "      <td>2330515101</td>\n",
       "      <td>2330515401</td>\n",
       "      <td>187.255507</td>\n",
       "      <td>127.028958</td>\n",
       "      <td>37.204614</td>\n",
       "      <td>127.028098</td>\n",
       "      <td>37.206159</td>\n",
       "      <td>MULTILINESTRING ((127.02903 37.20464, 127.0281...</td>\n",
       "    </tr>\n",
       "  </tbody>\n",
       "</table>\n",
       "</div>"
      ],
      "text/plain": [
       "      LINK_ID      F_NODE      T_NODE      LENGTH       lon_f      lat_f  \\\n",
       "0  2334338501  2330512701  2330515401  213.408206  127.027126  37.207922   \n",
       "1  2334337201  2330515101  2330515401  187.255507  127.028958  37.204614   \n",
       "\n",
       "        lon_t      lat_t                                           geometry  \n",
       "0  127.028098  37.206159  MULTILINESTRING ((127.02704 37.20789, 127.0280...  \n",
       "1  127.028098  37.206159  MULTILINESTRING ((127.02903 37.20464, 127.0281...  "
      ]
     },
     "execution_count": 15,
     "metadata": {},
     "output_type": "execute_result"
    }
   ],
   "source": [
    "df_link = gpd.read_file('moc_2021.geojson')\n",
    "df_link.head(2)"
   ]
  },
  {
   "cell_type": "code",
   "execution_count": 16,
   "metadata": {},
   "outputs": [
    {
     "name": "stderr",
     "output_type": "stream",
     "text": [
      "  0%|          | 0/11071 [00:00<?, ?it/s]/opt/app-root/lib/python3.6/site-packages/ipykernel_launcher.py:18: DeprecationWarning: The default dtype for empty Series will be 'object' instead of 'float64' in a future version. Specify a dtype explicitly to silence this warning.\n",
      "100%|██████████| 11071/11071 [13:46<00:00, 13.39it/s] \n"
     ]
    }
   ],
   "source": [
    "new_rows = []\n",
    "id = 0\n",
    "for row in tqdm(df_link.itertuples(), total=len(df_link)):\n",
    "\n",
    "    # 시작/끝 노드 저장\n",
    "    f_node = getattr(row, 'F_NODE')\n",
    "    t_node = getattr(row, 'T_NODE')\n",
    "    m_line_string = getattr(row, 'geometry')\n",
    "\n",
    "    # MultiLineString 을 2차원 [[lon, lat], [lon, lat] ...] 형태로 바꿔 coords 에 저장(이렇게 하면 코드 줄일 수 있음)\n",
    "    coords = np.array([])\n",
    "    for line_string in m_line_string:\n",
    "        coords = np.append(coords, list(line_string.coords))\n",
    "    coords = coords.reshape(-1, 2)\n",
    "\n",
    "    # coords 에 있는 좌표 정보를 하나씩 읽어서 노드와 거리를 new_rows 에 저장\n",
    "    for i in range(len(coords)-1):\n",
    "        new_row = pd.Series()\n",
    "        new_row['f_node_lon'] = coords[i][0]\n",
    "        new_row['f_node_lat'] = coords[i][1]\n",
    "        new_row['t_node_lon'] = coords[i+1][0]\n",
    "        new_row['t_node_lat'] = coords[i+1][1]\n",
    "\n",
    "        new_row['DIST'] = distance.distance(\n",
    "            (new_row['f_node_lat'], new_row['f_node_lon']),\n",
    "            (new_row['t_node_lat'], new_row['t_node_lon'])\n",
    "        ).meters\n",
    "\n",
    "        if i == 0:\n",
    "            new_row['f_node'] = f_node\n",
    "        else:\n",
    "            new_row['f_node'] = new_rows[-1]['t_node']\n",
    "\n",
    "        new_row['t_node'] = \"{}-{}-{}-{}\".format(f_node, t_node, i+1, id)\n",
    "        new_rows.append(new_row)\n",
    "\n",
    "    new_rows[-1]['t_node'] = t_node\n",
    "    id += 1\n",
    "\n"
   ]
  },
  {
   "cell_type": "code",
   "execution_count": 17,
   "metadata": {
    "scrolled": true
   },
   "outputs": [
    {
     "name": "stdout",
     "output_type": "stream",
     "text": [
      "df_link : 11071\n",
      "df_link_extend : 105950\n"
     ]
    }
   ],
   "source": [
    "# 위에서 만든 new_rows 를 모두 합쳐서 데이터프레임 형태로 만듦\n",
    "df_link_extend = pd.concat(new_rows, axis=1).T\n",
    "\n",
    "df_link_extend['DIST'] = df_link_extend['DIST'].astype('int')\n",
    "df_link_extend = df_link_extend.dropna()\n",
    "\n",
    "# 작업한 내용을 피클라이저해서 저장공간 줄임\n",
    "df_link_extend.to_pickle('df_link_extend.pkl')\n",
    "\n",
    "print('df_link :', len(df_link))\n",
    "print('df_link_extend :', len(df_link_extend))"
   ]
  },
  {
   "cell_type": "markdown",
   "metadata": {},
   "source": [
    "# 2. 저장한 피클 파일을 네트워크로 구성하고 굴곡도 구하기"
   ]
  },
  {
   "cell_type": "markdown",
   "metadata": {},
   "source": [
    "### 1. 네트워크 구성하기"
   ]
  },
  {
   "cell_type": "markdown",
   "metadata": {},
   "source": [
    "* 앞서 구한 f_node, t_node 데이터를 지도에 네트워크화해서 확인해본다."
   ]
  },
  {
   "cell_type": "code",
   "execution_count": 1,
   "metadata": {},
   "outputs": [
    {
     "data": {
      "text/html": [
       "<div>\n",
       "<style scoped>\n",
       "    .dataframe tbody tr th:only-of-type {\n",
       "        vertical-align: middle;\n",
       "    }\n",
       "\n",
       "    .dataframe tbody tr th {\n",
       "        vertical-align: top;\n",
       "    }\n",
       "\n",
       "    .dataframe thead th {\n",
       "        text-align: right;\n",
       "    }\n",
       "</style>\n",
       "<table border=\"1\" class=\"dataframe\">\n",
       "  <thead>\n",
       "    <tr style=\"text-align: right;\">\n",
       "      <th></th>\n",
       "      <th>f_node_lon</th>\n",
       "      <th>f_node_lat</th>\n",
       "      <th>t_node_lon</th>\n",
       "      <th>t_node_lat</th>\n",
       "      <th>DIST</th>\n",
       "      <th>f_node</th>\n",
       "      <th>t_node</th>\n",
       "    </tr>\n",
       "  </thead>\n",
       "  <tbody>\n",
       "    <tr>\n",
       "      <th>0</th>\n",
       "      <td>127.027</td>\n",
       "      <td>37.2079</td>\n",
       "      <td>127.028</td>\n",
       "      <td>37.2061</td>\n",
       "      <td>213</td>\n",
       "      <td>2330512701</td>\n",
       "      <td>2330515401</td>\n",
       "    </tr>\n",
       "    <tr>\n",
       "      <th>1</th>\n",
       "      <td>127.029</td>\n",
       "      <td>37.2046</td>\n",
       "      <td>127.028</td>\n",
       "      <td>37.2062</td>\n",
       "      <td>187</td>\n",
       "      <td>2330515101</td>\n",
       "      <td>2330515401</td>\n",
       "    </tr>\n",
       "    <tr>\n",
       "      <th>2</th>\n",
       "      <td>127.029</td>\n",
       "      <td>37.2065</td>\n",
       "      <td>127.028</td>\n",
       "      <td>37.2062</td>\n",
       "      <td>66</td>\n",
       "      <td>2330515801</td>\n",
       "      <td>2330515401</td>\n",
       "    </tr>\n",
       "    <tr>\n",
       "      <th>3</th>\n",
       "      <td>127.027</td>\n",
       "      <td>37.208</td>\n",
       "      <td>127.025</td>\n",
       "      <td>37.2071</td>\n",
       "      <td>222</td>\n",
       "      <td>2330512701</td>\n",
       "      <td>2330512701-2330014302-1-3</td>\n",
       "    </tr>\n",
       "    <tr>\n",
       "      <th>4</th>\n",
       "      <td>127.025</td>\n",
       "      <td>37.2071</td>\n",
       "      <td>127.025</td>\n",
       "      <td>37.207</td>\n",
       "      <td>15</td>\n",
       "      <td>2330512701-2330014302-1-3</td>\n",
       "      <td>2330512701-2330014302-2-3</td>\n",
       "    </tr>\n",
       "  </tbody>\n",
       "</table>\n",
       "</div>"
      ],
      "text/plain": [
       "  f_node_lon f_node_lat t_node_lon t_node_lat  DIST  \\\n",
       "0    127.027    37.2079    127.028    37.2061   213   \n",
       "1    127.029    37.2046    127.028    37.2062   187   \n",
       "2    127.029    37.2065    127.028    37.2062    66   \n",
       "3    127.027     37.208    127.025    37.2071   222   \n",
       "4    127.025    37.2071    127.025     37.207    15   \n",
       "\n",
       "                      f_node                     t_node  \n",
       "0                 2330512701                 2330515401  \n",
       "1                 2330515101                 2330515401  \n",
       "2                 2330515801                 2330515401  \n",
       "3                 2330512701  2330512701-2330014302-1-3  \n",
       "4  2330512701-2330014302-1-3  2330512701-2330014302-2-3  "
      ]
     },
     "execution_count": 1,
     "metadata": {},
     "output_type": "execute_result"
    }
   ],
   "source": [
    "import warnings\n",
    "warnings.filterwarnings(action='ignore')\n",
    "\n",
    "import numpy as np\n",
    "import pandas as pd\n",
    "import geopandas as gpd\n",
    "\n",
    "import pickle\n",
    "from tqdm import tqdm\n",
    "\n",
    "import osmnx as ox\n",
    "import networkx as nx\n",
    "import deckgljupyter.Layer as deckgl\n",
    "import matplotlib.pyplot as plt\n",
    "\n",
    "from geopy.distance import distance\n",
    "import geopy.distance\n",
    "\n",
    "with open('df_link_extend.pkl', 'rb') as f:\n",
    "    node_extended = pickle.load(f)\n",
    "\n",
    "node_extended.head()"
   ]
  },
  {
   "cell_type": "code",
   "execution_count": 2,
   "metadata": {},
   "outputs": [],
   "source": [
    "# f_node, t_node(둘을 합쳐서 edge라고 함)로 그래프 만들기\n",
    "make_graph = nx.from_pandas_edgelist(node_extended, \n",
    "                                     source='f_node', target='t_node',\n",
    "                                     edge_attr='DIST', \n",
    "#                                      create_using = nx.MultiDiGraph,\n",
    "                                    )\n",
    "\n",
    "# f_node, t_node에 (경도, 위도) 정보 넣어줌\n",
    "d = {}\n",
    "for row in node_extended.itertuples():\n",
    "\n",
    "    f_node_lon = getattr(row, 'f_node_lon')\n",
    "    f_node_lat = getattr(row, 'f_node_lat')\n",
    "    f_node =  getattr(row, 'f_node')\n",
    "    t_node_lon = getattr(row, 't_node_lon')\n",
    "    t_node_lat = getattr(row, 't_node_lat')\n",
    "    t_node =  getattr(row, 't_node')\n",
    "\n",
    "    d[t_node] = dict(x=t_node_lon, y=t_node_lat)\n",
    "    d[f_node] = dict(x=f_node_lon, y=f_node_lat)\n",
    "\n",
    "nx.set_node_attributes(make_graph, d)"
   ]
  },
  {
   "cell_type": "code",
   "execution_count": 3,
   "metadata": {},
   "outputs": [],
   "source": [
    "access_token = 'pk.eyJ1Ijoid293bmRkbDE2IiwiYSI6ImNrdHA1YXlvODBqODkyeG8zcHV3bTV3b2QifQ.uEqIwnfKUDUHuiH5epXfog'\n",
    "view_options = {\n",
    "    'center': [126.908, 37.132],\n",
    "    'zoom': 11,\n",
    "    'style': 'mapbox://styles/mapbox/dark-v9',\n",
    "    'access_token': access_token\n",
    "}"
   ]
  },
  {
   "cell_type": "code",
   "execution_count": 4,
   "metadata": {},
   "outputs": [],
   "source": [
    "def draw_graph(graph):\n",
    "    # node 리스트 만들기 (node의 형태는 '233029221', '2342231435'처럼 점 하나하나가 따로 표현되어 있는 형태이다.)\n",
    "    node_list = []\n",
    "    for node in graph.nodes:\n",
    "        node_list.append({\n",
    "            'node': node,\n",
    "            'position': list(graph.nodes[node].values())\n",
    "        })\n",
    "\n",
    "    # edge 리스트 만들기 (edge의 형태는 ('233432452', '23434254454')와 같이 하나로 묶여있는 형태이다.)\n",
    "    link_list = []\n",
    "    for edge in graph.edges:\n",
    "        u, v = edge[0], edge[1]\n",
    "        # pydeck에서는 이렇게 할 필요 없지만, deckgljupyter에서는 이렇게 끝과 끝 엣지를 \n",
    "        # 딕셔너리로 연결해서 path를 만들어줘야 한다.\n",
    "        link_list.append({\n",
    "            'edge': \"{} -> {}\".format(u, v),\n",
    "            'path': [list(graph.nodes[u].values()), list(graph.nodes[v].values())]\n",
    "        })\n",
    "\n",
    "    # draw map\n",
    "    m = deckgl.Map(**view_options)\n",
    "\n",
    "    m.add(deckgl.ScatterplotLayer(node_list,\n",
    "                               getRadius=3,\n",
    "                               getFillColor=[225, 120, 0],\n",
    "                               pickable=True,\n",
    "                               tooltip=['node']))\n",
    "\n",
    "    m.add(deckgl.PathLayer(link_list,\n",
    "                           getWidth=3,\n",
    "                           getColor=[255, 221, 0],\n",
    "                           opacity=0.5,\n",
    "                           pickable=True,\n",
    "                           tooltip=['edge']))\n",
    "\n",
    "    m.show()"
   ]
  },
  {
   "cell_type": "code",
   "execution_count": null,
   "metadata": {},
   "outputs": [],
   "source": [
    "draw_graph(make_graph)"
   ]
  },
  {
   "cell_type": "markdown",
   "metadata": {},
   "source": [
    "<p>\n",
    "<img src=\"post1/node_network.png\" width=\"100%\" align=\"center\">\n",
    "</p>"
   ]
  },
  {
   "cell_type": "markdown",
   "metadata": {},
   "source": [
    "### 2. 굴곡도 구하기"
   ]
  },
  {
   "cell_type": "markdown",
   "metadata": {},
   "source": [
    "#### 2-1. 버스 노선 데이터 확인 및 데이터 정제"
   ]
  },
  {
   "cell_type": "code",
   "execution_count": 6,
   "metadata": {
    "scrolled": true
   },
   "outputs": [
    {
     "name": "stdout",
     "output_type": "stream",
     "text": [
      "(12019, 15)\n",
      "pr_station_id 개수 :  236\n"
     ]
    },
    {
     "data": {
      "text/html": [
       "<div>\n",
       "<style scoped>\n",
       "    .dataframe tbody tr th:only-of-type {\n",
       "        vertical-align: middle;\n",
       "    }\n",
       "\n",
       "    .dataframe tbody tr th {\n",
       "        vertical-align: top;\n",
       "    }\n",
       "\n",
       "    .dataframe thead th {\n",
       "        text-align: right;\n",
       "    }\n",
       "</style>\n",
       "<table border=\"1\" class=\"dataframe\">\n",
       "  <thead>\n",
       "    <tr style=\"text-align: right;\">\n",
       "      <th></th>\n",
       "      <th>seq</th>\n",
       "      <th>pr_station_id</th>\n",
       "      <th>bus_line_no</th>\n",
       "      <th>bus_line_no_seq</th>\n",
       "      <th>station_nm</th>\n",
       "      <th>station_id</th>\n",
       "      <th>mobile_no</th>\n",
       "      <th>중앙차로여부</th>\n",
       "      <th>관할관청</th>\n",
       "      <th>WGS84위도</th>\n",
       "      <th>WGS84경도</th>\n",
       "      <th>이비카드정류장ID</th>\n",
       "      <th>기종점여부</th>\n",
       "      <th>상하행여부</th>\n",
       "      <th>버스유형</th>\n",
       "    </tr>\n",
       "  </thead>\n",
       "  <tbody>\n",
       "    <tr>\n",
       "      <th>0</th>\n",
       "      <td>68782</td>\n",
       "      <td>228000204</td>\n",
       "      <td>24</td>\n",
       "      <td>1</td>\n",
       "      <td>용인터미널</td>\n",
       "      <td>228001552</td>\n",
       "      <td>47634.0</td>\n",
       "      <td>노변정류장</td>\n",
       "      <td>경기도 용인시</td>\n",
       "      <td>37.232783</td>\n",
       "      <td>127.210100</td>\n",
       "      <td>9176783 4176783</td>\n",
       "      <td>기점</td>\n",
       "      <td>상행</td>\n",
       "      <td>일반</td>\n",
       "    </tr>\n",
       "    <tr>\n",
       "      <th>1</th>\n",
       "      <td>68783</td>\n",
       "      <td>228000204</td>\n",
       "      <td>24</td>\n",
       "      <td>2</td>\n",
       "      <td>송담대사거리(경유)</td>\n",
       "      <td>277102467</td>\n",
       "      <td>NaN</td>\n",
       "      <td>NaN</td>\n",
       "      <td>NaN</td>\n",
       "      <td>37.233050</td>\n",
       "      <td>127.213433</td>\n",
       "      <td>7102467</td>\n",
       "      <td>-</td>\n",
       "      <td>상행</td>\n",
       "      <td>일반</td>\n",
       "    </tr>\n",
       "    <tr>\n",
       "      <th>2</th>\n",
       "      <td>68784</td>\n",
       "      <td>228000204</td>\n",
       "      <td>24</td>\n",
       "      <td>3</td>\n",
       "      <td>라이프아파트</td>\n",
       "      <td>228000664</td>\n",
       "      <td>29457.0</td>\n",
       "      <td>노변정류장</td>\n",
       "      <td>경기도 용인시</td>\n",
       "      <td>37.231483</td>\n",
       "      <td>127.213767</td>\n",
       "      <td>4150529</td>\n",
       "      <td>-</td>\n",
       "      <td>상행</td>\n",
       "      <td>일반</td>\n",
       "    </tr>\n",
       "  </tbody>\n",
       "</table>\n",
       "</div>"
      ],
      "text/plain": [
       "     seq  pr_station_id bus_line_no  bus_line_no_seq  station_nm  station_id  \\\n",
       "0  68782      228000204          24                1       용인터미널   228001552   \n",
       "1  68783      228000204          24                2  송담대사거리(경유)   277102467   \n",
       "2  68784      228000204          24                3      라이프아파트   228000664   \n",
       "\n",
       "   mobile_no 중앙차로여부     관할관청    WGS84위도     WGS84경도         이비카드정류장ID 기종점여부  \\\n",
       "0    47634.0  노변정류장  경기도 용인시  37.232783  127.210100  9176783 4176783     기점   \n",
       "1        NaN    NaN      NaN  37.233050  127.213433           7102467     -   \n",
       "2    29457.0  노변정류장  경기도 용인시  37.231483  127.213767           4150529     -   \n",
       "\n",
       "  상하행여부 버스유형  \n",
       "0    상행   일반  \n",
       "1    상행   일반  \n",
       "2    상행   일반  "
      ]
     },
     "execution_count": 6,
     "metadata": {},
     "output_type": "execute_result"
    }
   ],
   "source": [
    "routeinfo_start_end = pd.read_csv('route_start_end.csv', encoding = 'cp949')\n",
    "print(routeinfo_start_end.shape)\n",
    "print('pr_station_id 개수 : ', len(routeinfo_start_end['pr_station_id'].unique()))\n",
    "routeinfo_start_end.head(3)"
   ]
  },
  {
   "cell_type": "code",
   "execution_count": 7,
   "metadata": {
    "scrolled": false
   },
   "outputs": [
    {
     "name": "stdout",
     "output_type": "stream",
     "text": [
      "(37831, 7)\n"
     ]
    },
    {
     "data": {
      "text/html": [
       "<div>\n",
       "<style scoped>\n",
       "    .dataframe tbody tr th:only-of-type {\n",
       "        vertical-align: middle;\n",
       "    }\n",
       "\n",
       "    .dataframe tbody tr th {\n",
       "        vertical-align: top;\n",
       "    }\n",
       "\n",
       "    .dataframe thead th {\n",
       "        text-align: right;\n",
       "    }\n",
       "</style>\n",
       "<table border=\"1\" class=\"dataframe\">\n",
       "  <thead>\n",
       "    <tr style=\"text-align: right;\">\n",
       "      <th></th>\n",
       "      <th>seq</th>\n",
       "      <th>pr_station_id</th>\n",
       "      <th>bus_line_no_seq</th>\n",
       "      <th>station_nm</th>\n",
       "      <th>station_id</th>\n",
       "      <th>mobile_no</th>\n",
       "      <th>중앙차로여부</th>\n",
       "      <th>관할관청</th>\n",
       "      <th>WGS84위도</th>\n",
       "      <th>WGS84경도</th>\n",
       "      <th>이비카드정류장ID</th>\n",
       "      <th>기종점여부</th>\n",
       "      <th>상하행여부</th>\n",
       "      <th>버스유형</th>\n",
       "      <th>bus_line_no</th>\n",
       "    </tr>\n",
       "  </thead>\n",
       "  <tbody>\n",
       "    <tr>\n",
       "      <th>0</th>\n",
       "      <td>68782</td>\n",
       "      <td>228000204</td>\n",
       "      <td>1</td>\n",
       "      <td>용인터미널</td>\n",
       "      <td>228001552</td>\n",
       "      <td>47634.0</td>\n",
       "      <td>노변정류장</td>\n",
       "      <td>경기도 용인시</td>\n",
       "      <td>37.232783</td>\n",
       "      <td>127.210100</td>\n",
       "      <td>9176783 4176783</td>\n",
       "      <td>기점</td>\n",
       "      <td>상행</td>\n",
       "      <td>일반</td>\n",
       "      <td>24</td>\n",
       "    </tr>\n",
       "    <tr>\n",
       "      <th>1</th>\n",
       "      <td>68783</td>\n",
       "      <td>228000204</td>\n",
       "      <td>2</td>\n",
       "      <td>송담대사거리(경유)</td>\n",
       "      <td>277102467</td>\n",
       "      <td>NaN</td>\n",
       "      <td>NaN</td>\n",
       "      <td>NaN</td>\n",
       "      <td>37.233050</td>\n",
       "      <td>127.213433</td>\n",
       "      <td>7102467</td>\n",
       "      <td>-</td>\n",
       "      <td>상행</td>\n",
       "      <td>일반</td>\n",
       "      <td>24</td>\n",
       "    </tr>\n",
       "    <tr>\n",
       "      <th>2</th>\n",
       "      <td>68784</td>\n",
       "      <td>228000204</td>\n",
       "      <td>3</td>\n",
       "      <td>라이프아파트</td>\n",
       "      <td>228000664</td>\n",
       "      <td>29457.0</td>\n",
       "      <td>노변정류장</td>\n",
       "      <td>경기도 용인시</td>\n",
       "      <td>37.231483</td>\n",
       "      <td>127.213767</td>\n",
       "      <td>4150529</td>\n",
       "      <td>-</td>\n",
       "      <td>상행</td>\n",
       "      <td>일반</td>\n",
       "      <td>24</td>\n",
       "    </tr>\n",
       "  </tbody>\n",
       "</table>\n",
       "</div>"
      ],
      "text/plain": [
       "     seq  pr_station_id  bus_line_no_seq  station_nm  station_id  mobile_no  \\\n",
       "0  68782      228000204                1       용인터미널   228001552    47634.0   \n",
       "1  68783      228000204                2  송담대사거리(경유)   277102467        NaN   \n",
       "2  68784      228000204                3      라이프아파트   228000664    29457.0   \n",
       "\n",
       "  중앙차로여부     관할관청    WGS84위도     WGS84경도         이비카드정류장ID 기종점여부 상하행여부 버스유형  \\\n",
       "0  노변정류장  경기도 용인시  37.232783  127.210100  9176783 4176783     기점    상행   일반   \n",
       "1    NaN      NaN  37.233050  127.213433           7102467     -    상행   일반   \n",
       "2  노변정류장  경기도 용인시  37.231483  127.213767           4150529     -    상행   일반   \n",
       "\n",
       "  bus_line_no  \n",
       "0          24  \n",
       "1          24  \n",
       "2          24  "
      ]
     },
     "execution_count": 7,
     "metadata": {},
     "output_type": "execute_result"
    }
   ],
   "source": [
    "routeinfo = pd.read_csv('routestationinfo.csv', encoding = 'cp949')\n",
    "print(routeinfo.shape)\n",
    "routeinfo.head(3)\n",
    "\n",
    "changable_df = routeinfo[['pr_station_id', 'bus_line_no']].drop_duplicates(keep = 'first').reset_index(drop = True)\n",
    "changable_df.head(3)\n",
    "\n",
    "route_start_end = pd.merge(routeinfo_start_end, changable_df, on = 'pr_station_id', how = 'left')\n",
    "route_start_end.drop('bus_line_no_x', axis = 1, inplace = True)\n",
    "route_start_end.rename(columns = {'bus_line_no_y' : 'bus_line_no'}, inplace = True)\n",
    "route_start_end.head(3)"
   ]
  },
  {
   "cell_type": "code",
   "execution_count": 8,
   "metadata": {},
   "outputs": [
    {
     "name": "stdout",
     "output_type": "stream",
     "text": [
      "위/경도 na값 : 0\n"
     ]
    }
   ],
   "source": [
    "# 위도, 경도가 없으면 지도에 표시할 수 없으므로 null값이 있는 행은 삭제\n",
    "aa = list(route_start_end[['WGS84위도', 'WGS84경도']][route_start_end[['WGS84위도', 'WGS84경도']].isna().any(axis = 1)].index)\n",
    "print('위/경도 na값 :', len(aa))\n",
    "route_start_end.drop(aa, inplace = True)\n",
    "route_start_end.reset_index(inplace = True, drop = True)"
   ]
  },
  {
   "cell_type": "code",
   "execution_count": 9,
   "metadata": {
    "scrolled": true
   },
   "outputs": [
    {
     "name": "stdout",
     "output_type": "stream",
     "text": [
      "(12019, 15)\n",
      "pr_station_id 의 개수 : 236\n"
     ]
    }
   ],
   "source": [
    "print(route_start_end.shape)\n",
    "print('pr_station_id 의 개수 :',len(route_start_end['pr_station_id'].unique()))"
   ]
  },
  {
   "cell_type": "markdown",
   "metadata": {},
   "source": [
    "#### 2-3. 버스 노선별 최단거리 계산하기"
   ]
  },
  {
   "cell_type": "code",
   "execution_count": 10,
   "metadata": {},
   "outputs": [],
   "source": [
    "# 화성시 폴리곤 데이터\n",
    "df_sig = gpd.read_file('hwasung.geojson')\n",
    "target_polygon = df_sig['geometry'].iloc[0]\n",
    "polygons = list(target_polygon)[45]"
   ]
  },
  {
   "cell_type": "code",
   "execution_count": 11,
   "metadata": {},
   "outputs": [],
   "source": [
    "# 아주 중요하다. 우리가 nx.from_pandas_edgelist로 만든 데이터는 graph라는 key가 없다. \n",
    "# graph에는 src가 들어있는데, 이게 있어야 ox.get_nearest_node를 사용할 수 있다.\n",
    "\n",
    "make_graph.graph = {'created_date': '2021-10-06 21:39:29',\n",
    " 'created_with': 'OSMnx 1.1.1',\n",
    " 'crs': 'epsg:4326',\n",
    " 'simplified': True}"
   ]
  },
  {
   "cell_type": "code",
   "execution_count": 12,
   "metadata": {},
   "outputs": [],
   "source": [
    "# 그래프, 노드 번호를 입력하면 위/경도 반환\n",
    "def get_xy_from_node(node_no):\n",
    "    return make_graph.nodes[node_no]['x'], make_graph.nodes[node_no]['y']"
   ]
  },
  {
   "cell_type": "code",
   "execution_count": 13,
   "metadata": {
    "scrolled": true
   },
   "outputs": [
    {
     "name": "stderr",
     "output_type": "stream",
     "text": [
      "100%|████████████████████████████████████████████████████████████████████████████████| 236/236 [07:19<00:00,  1.86s/it]\n"
     ]
    }
   ],
   "source": [
    "# 노선별 최단거리 계산\n",
    "\n",
    "shortest_routes = {}\n",
    "no_lines = []\n",
    "pr_station_id_lst = []\n",
    "\n",
    "# 각 노선별로 하나씩 접근\n",
    "for pr_station_id, gdf in tqdm(route_start_end.groupby(['pr_station_id'])):\n",
    "    pr_station_id_lst.append(pr_station_id)\n",
    "    # 1. 하나의 노선을 가지고 옴\n",
    "    # 2. 정류장을 순서대로 정렬\n",
    "    gdf = gdf.sort_values('bus_line_no_seq')\n",
    "    gdf = gdf.reset_index(drop=True)\n",
    "    \n",
    "    # 3. 상행의 기/종점 표시\n",
    "    up_start_idx = gdf[gdf['기종점여부'] == '기점'].index[0]\n",
    "    \n",
    "    if len(gdf[gdf['기종점여부'] == '회차']) == 0:\n",
    "        if len(gdf[gdf['기종점여부'] == '종점']) == 0 :\n",
    "            up_end_idx = gdf.iloc[-1:].index[0]\n",
    "        else :\n",
    "            up_end_idx = gdf[gdf['기종점여부'] == '종점'].index[0]  \n",
    "    else :\n",
    "        up_end_idx = gdf[gdf['기종점여부'] == '회차'].index[0]\n",
    "    \n",
    "    up_path = gdf.iloc[up_start_idx:up_end_idx]\n",
    "\n",
    "    # 4. 노선에 존재하는 정류장이 1개뿐이면 해당 노선은 거리를 잴 수 없으므로 제외(잘못 수집된 경우를 생각해서)\n",
    "    if len(up_path) <= 1:\n",
    "        continue\n",
    "\n",
    "    # 5. 시작과 끝의 transformed 한 좌표를 따로 추출\n",
    "    start_latlng = up_path.iloc[0][['WGS84위도','WGS84경도']].values\n",
    "    end_latlng = up_path.iloc[-1][['WGS84위도','WGS84경도']].values\n",
    "\n",
    "    # 6. 추출한 좌표로 도로 네트워크 상에 존재하는 노드와 일치시킴(get_nearest_node)\n",
    "    # 아래의 코드는 버스절류장의 위치 노드와 앞서 구성한 네트워크에 존재하는 노드를 거리를 재어서 가까운 곳에 위치시키는 과정\n",
    "    start_node, s_dist = ox.get_nearest_node(make_graph, start_latlng, method='haversine', return_dist=True)\n",
    "    end_node, e_dist = ox.get_nearest_node(make_graph, end_latlng, method='haversine', return_dist=True)\n",
    "    \n",
    "    # 7. 시작점 -> 종점간의 가장 짧은 경로 찾기(shortest_path)\n",
    "    try:\n",
    "        path_nodes = nx.shortest_path(make_graph, start_node, end_node, weight='distance')\n",
    "        path = [list(get_xy_from_node(node)) for node in path_nodes]\n",
    "        \n",
    "    except:\n",
    "        no_lines.append(pr_station_id)\n",
    "        continue\n",
    "    \n",
    "    # path_length를 구하는 함수가 있긴 한데 제대로 작동하지 않아 이렇게 직접 코딩\n",
    "    path_length = 0\n",
    "    for i in range(len(path)) :\n",
    "        if i == len(path)-1 :\n",
    "            continue\n",
    "        s = (path[i][1], path[i][0])\n",
    "        e = (path[i+1][1], path[i+1][0])\n",
    "        dist = geopy.distance.geodesic(s, e).m\n",
    "        path_length += dist    \n",
    "        \n",
    "        \n",
    "    # 8.계산한 정보들을 딕셔너리에 저장\n",
    "    shortest_routes[pr_station_id] = {\n",
    "        \"name\": gdf['station_nm'].iloc[0],\n",
    "        \"pr_station_id\": pr_station_id,\n",
    "        \"path_length\": path_length,\n",
    "        \"path\": path\n",
    "    }"
   ]
  },
  {
   "cell_type": "code",
   "execution_count": 14,
   "metadata": {},
   "outputs": [],
   "source": [
    "with open('shortest_routes.pickle', 'wb') as f:\n",
    "    pickle.dump(shortest_routes, f)"
   ]
  },
  {
   "cell_type": "code",
   "execution_count": 15,
   "metadata": {},
   "outputs": [],
   "source": [
    "with open('shortest_routes.pickle', 'rb') as f:\n",
    "    shortest_routes = pickle.load(f)"
   ]
  },
  {
   "cell_type": "code",
   "execution_count": 16,
   "metadata": {},
   "outputs": [],
   "source": [
    "# 위에서 담은 path를 list로 넣어야 시각화 가능하므로 path는 list 형태로 만들어줘야 함\n",
    "data = []\n",
    "for route_id, values in shortest_routes.items():\n",
    "    data.append(values['path'])"
   ]
  },
  {
   "cell_type": "markdown",
   "metadata": {},
   "source": [
    "##### 시각화"
   ]
  },
  {
   "cell_type": "code",
   "execution_count": 17,
   "metadata": {},
   "outputs": [],
   "source": [
    "# 노선별 색상 다르게 하기 위한 함수\n",
    "def get_random_color(opacity=1):\n",
    "    rgba = np.random.choice(range(256), size=3).tolist()\n",
    "    rgba.append(opacity*255)\n",
    "    return rgba\n",
    "\n",
    "# 노선 그리기 위한 함수\n",
    "def draw_path(path_list, stations=[], region=False, colors=[]): \n",
    "\n",
    "    # 시각화할 데이터 형태로 가공\n",
    "    data = []\n",
    "    for i, path in enumerate(path_list):\n",
    "        data.append({\n",
    "            'path': path,\n",
    "            'color': get_random_color() if len(colors) == 0 else colors[i]\n",
    "        })\n",
    "\n",
    "    # 지도 설정\n",
    "    v = view_options.copy()\n",
    "\n",
    "    # 지도그리기\n",
    "    m = deckgl.Map(**v)\n",
    "\n",
    "    # path 그리기\n",
    "    m.add(deckgl.PathLayer(data,\n",
    "                           getWidth=30,\n",
    "                           getColor='obj => obj.color'\n",
    "                          ))\n",
    "\n",
    "    # 화성시 폴리곤 그리기\n",
    "    if region:\n",
    "        x, y = polygons.exterior.xy\n",
    "        data_region = [{\n",
    "            \"polygon\": [[lon, lat] for lon, lat in zip(x, y)],\n",
    "        }]\n",
    "        m.add(deckgl.PolygonLayer(data_region, getFillColor=[255, 255, 255, 60]))\n",
    "    m.show()"
   ]
  },
  {
   "cell_type": "markdown",
   "metadata": {},
   "source": [
    "#### 2-4. 노선별 실제 운행거리 구하기"
   ]
  },
  {
   "cell_type": "code",
   "execution_count": 18,
   "metadata": {},
   "outputs": [
    {
     "name": "stderr",
     "output_type": "stream",
     "text": [
      "100%|██████████████████████████████████████████████████████████████████████████████| 236/236 [1:15:35<00:00, 19.22s/it]"
     ]
    },
    {
     "name": "stdout",
     "output_type": "stream",
     "text": [
      "372 of new nodes are created.\n"
     ]
    },
    {
     "name": "stderr",
     "output_type": "stream",
     "text": [
      "\n"
     ]
    }
   ],
   "source": [
    "driving_routes = {}\n",
    "rounding_routes = {}\n",
    "excluded_routes = []\n",
    "new_node_idx = 0\n",
    "new_nodes = set()\n",
    "err_dists = []\n",
    "no_lines = []\n",
    "\n",
    "# 각 노선별로 하나씩 접근\n",
    "for pr_station_id, gdf in tqdm(route_start_end.groupby(['pr_station_id'])):\n",
    "    # 1. 하나의 노선을 가지고 옴\n",
    "    # 2. 정류장을 순서대로 정렬\n",
    "    gdf = gdf.sort_values('bus_line_no_seq')\n",
    "    gdf = gdf.reset_index(drop=True)\n",
    "    \n",
    "    # 3. 상행의 기/종점 표시\n",
    "    up_start_idx = gdf[gdf['기종점여부'] == '기점'].index[0]\n",
    "    \n",
    "    if len(gdf[gdf['기종점여부'] == '회차']) == 0:\n",
    "        if len(gdf[gdf['기종점여부'] == '종점']) == 0 :\n",
    "            up_end_idx = gdf.iloc[-1:].index[0]\n",
    "        else :\n",
    "            up_end_idx = gdf[gdf['기종점여부'] == '종점'].index[0]  \n",
    "    else :\n",
    "        up_end_idx = gdf[gdf['기종점여부'] == '회차'].index[0]\n",
    "    \n",
    "    up_path = gdf.iloc[up_start_idx:up_end_idx]\n",
    "\n",
    "    \n",
    "    # 4. 노선에 존재하는 정류장이 1개뿐이면 해당 노선은 거리를 잴 수 없으므로 제외(잘못 수집된 경우를 생각해서)\n",
    "    if len(up_path) <= 1:\n",
    "        excluded_routes.append(pr_station_id)\n",
    "        continue\n",
    "\n",
    "    # 5. 정류장 하나하나의 위경도를 가져옴\n",
    "    coords = up_path[['WGS84위도','WGS84경도']].values.tolist()\n",
    "    prev_node = ox.get_nearest_node(make_graph, coords[0], method='haversine')\n",
    "    path_list = np.array([get_xy_from_node(prev_node)])\n",
    "    path_length = 0\n",
    "    \n",
    "    # 6. 현재 노선의 모든 정류장을 탐색\n",
    "    for coord in coords[1:]:\n",
    "        # 현재 정류장과 도로네트워크 위의 노드와의 거리를 잼\n",
    "        # 가장 가까운 도로네트워크 위의 노드를 가져옴(시각화와 거리 계산을 위해)\n",
    "        node, err_dist = ox.get_nearest_node(make_graph, coord, method='haversine', return_dist=True)\n",
    "        err_dists.append(err_dist)\n",
    "        \n",
    "        # 만약 찾은 노드와 실제 정류장간의 거리 오차가 50m 를 넘는 경우 잘못된 노드를 찾았을 가능성이 높음\n",
    "        # 따라서 해당 정류장 위치에 새 노드를 만들어 도로 네트워크에 연결\n",
    "        if err_dist > 50:\n",
    "            node = 'new_node_{}'.format(new_node_idx)\n",
    "            _ = make_graph.add_node(node, x=coord[1], y=coord[0])\n",
    "            prev_node_coord = (make_graph.nodes[prev_node]['y'], make_graph.nodes[prev_node]['x'])\n",
    "            _ = make_graph.add_edge(prev_node, node, DIST = distance(coord, prev_node_coord).meters)\n",
    "            _ = new_nodes.add(node)\n",
    "            new_node_idx += 1\n",
    "        elif prev_node in new_nodes:\n",
    "            _ = make_graph.add_edge(prev_node, node, DIST = distance(coord, prev_node_coord).meters)\n",
    "\n",
    "        # 도로 네트워크에서 현재 노드와 이전 노드간의 최단거리와 그 거리를 찾음\n",
    "        try:\n",
    "            path_nodes = nx.shortest_path(make_graph, prev_node, node, weight='distance')\n",
    "            path = [list(get_xy_from_node(node)) for node in path_nodes]\n",
    "            path_list = np.append(path_list, path)\n",
    "            prev_node = node\n",
    "            \n",
    "            # 마찬가지로 거리구하는 함수가 있으나 제대로 작동하지 않아 직접 코드 짬\n",
    "            for i in range(len(path)) :\n",
    "                if i == len(path)-1 :\n",
    "                    continue\n",
    "                s = (path[i][1], path[i][0])\n",
    "                e = (path[i+1][1], path[i+1][0])\n",
    "                dist = geopy.distance.geodesic(s, e).m\n",
    "                path_length += dist  \n",
    "          \n",
    "        except:\n",
    "            no_lines.append(pr_station_id)\n",
    "            continue\n",
    "\n",
    "    # 7. 계산한 정보들을 딕셔너리에 저장\n",
    "    driving_routes[pr_station_id] = {\n",
    "        'name': gdf['bus_line_no'].iloc[0],\n",
    "        'pr_station_id': pr_station_id,\n",
    "        'path_length': path_length,\n",
    "        'path': path_list.reshape(-1, 2).tolist(),\n",
    "        'stations': up_path[['WGS84위도','WGS84경도']].values.tolist()\n",
    "    }\n",
    "        \n",
    "print(\"{} of new nodes are created.\".format(new_node_idx))    "
   ]
  },
  {
   "cell_type": "code",
   "execution_count": 19,
   "metadata": {
    "scrolled": false
   },
   "outputs": [],
   "source": [
    "##### 데이터 저장(1시간 36분이 걸려서 미리 구한 값을 저장해놓음)\n",
    "with open('driving_routes.pickle', 'wb') as f:\n",
    "    pickle.dump(driving_routes, f)\n",
    "with open('excluded_routes.pickle', 'wb') as f:\n",
    "    pickle.dump(excluded_routes, f) \n",
    "with open('new_node_id.pickle', 'wb') as f:\n",
    "    pickle.dump(new_node_idx, f) \n",
    "with open('new_nodes.pickle', 'wb') as f:\n",
    "    pickle.dump(new_nodes, f)\n",
    "with open('err_dists.pickle', 'wb') as f:\n",
    "    pickle.dump(err_dists, f)\n",
    "with open('no_lines.pickle', 'wb') as f:\n",
    "    pickle.dump(no_lines, f)    \n"
   ]
  },
  {
   "cell_type": "code",
   "execution_count": 20,
   "metadata": {},
   "outputs": [],
   "source": [
    "##### 데이터 불러오기\n",
    "with open('driving_routes.pickle', 'rb') as f:\n",
    "    driving_routes = pickle.load(f)\n",
    "with open('excluded_routes.pickle', 'rb') as f:\n",
    "    excluded_routes = pickle.load(f) \n",
    "with open('new_node_id.pickle', 'rb') as f:\n",
    "    new_node_id = pickle.load(f) \n",
    "with open('new_nodes.pickle', 'rb') as f:\n",
    "    new_nodes = pickle.load(f)\n",
    "with open('err_dists.pickle', 'rb') as f:\n",
    "    err_dists = pickle.load(f)\n",
    "with open('no_lines.pickle', 'rb') as f:\n",
    "    no_lines = pickle.load(f)\n"
   ]
  },
  {
   "cell_type": "code",
   "execution_count": 21,
   "metadata": {
    "scrolled": false
   },
   "outputs": [
    {
     "name": "stdout",
     "output_type": "stream",
     "text": [
      "노선 수(route_id) : 236\n"
     ]
    }
   ],
   "source": [
    "print('노선 수(route_id) :', len(driving_routes.keys()))"
   ]
  },
  {
   "cell_type": "code",
   "execution_count": 22,
   "metadata": {},
   "outputs": [
    {
     "data": {
      "image/png": "[encoded data removed]",
      "text/plain": [
       "<Figure size 288x216 with 1 Axes>"
      ]
     },
     "metadata": {
      "needs_background": "light"
     },
     "output_type": "display_data"
    }
   ],
   "source": [
    "# 실제 거리의 오차를 히스토그램으로 시각화\n",
    "plt.figure(figsize = (4, 3))\n",
    "plt.hist(err_dists)\n",
    "plt.show()"
   ]
  },
  {
   "cell_type": "markdown",
   "metadata": {},
   "source": [
    "#### 2-5 노선별 실제 운행거리 시각화"
   ]
  },
  {
   "cell_type": "code",
   "execution_count": null,
   "metadata": {},
   "outputs": [],
   "source": [
    "data = []\n",
    "for route_id, values in driving_routes.items():\n",
    "    data.append(values['path'])\n",
    "draw_path(data, region=True)"
   ]
  },
  {
   "cell_type": "markdown",
   "metadata": {},
   "source": [
    "<p>\n",
    "<img src=\"post1/all_line.png\" width=\"100%\" align=\"center\">\n",
    "</p>"
   ]
  },
  {
   "cell_type": "markdown",
   "metadata": {},
   "source": [
    "#### 2-6. 굴곡도 구하기"
   ]
  },
  {
   "cell_type": "code",
   "execution_count": 27,
   "metadata": {},
   "outputs": [
    {
     "data": {
      "text/plain": [
       "0    2.763846\n",
       "1    1.093366\n",
       "2    0.932136\n",
       "dtype: float64"
      ]
     },
     "execution_count": 27,
     "metadata": {},
     "output_type": "execute_result"
    }
   ],
   "source": [
    "# 실제 노선의 길이와 최단거리 노선의 길이\n",
    "driving_length = []\n",
    "for route_id, its in driving_routes.items() :\n",
    "    driving_length.append(its['path_length'])\n",
    "\n",
    "shortest_length = []\n",
    "for route_id, its in shortest_routes.items() :\n",
    "    shortest_length.append(its['path_length'])\n",
    "\n",
    "gulgok = pd.Series(driving_length)/pd.Series(shortest_length)\n",
    "gulgok.head(3)"
   ]
  },
  {
   "cell_type": "code",
   "execution_count": 28,
   "metadata": {},
   "outputs": [
    {
     "data": {
      "text/html": [
       "<div>\n",
       "<style scoped>\n",
       "    .dataframe tbody tr th:only-of-type {\n",
       "        vertical-align: middle;\n",
       "    }\n",
       "\n",
       "    .dataframe tbody tr th {\n",
       "        vertical-align: top;\n",
       "    }\n",
       "\n",
       "    .dataframe thead th {\n",
       "        text-align: right;\n",
       "    }\n",
       "</style>\n",
       "<table border=\"1\" class=\"dataframe\">\n",
       "  <thead>\n",
       "    <tr style=\"text-align: right;\">\n",
       "      <th></th>\n",
       "      <th>route_id</th>\n",
       "      <th>굴곡도</th>\n",
       "    </tr>\n",
       "  </thead>\n",
       "  <tbody>\n",
       "    <tr>\n",
       "      <th>0</th>\n",
       "      <td>228000204.0</td>\n",
       "      <td>2.763846</td>\n",
       "    </tr>\n",
       "    <tr>\n",
       "      <th>1</th>\n",
       "      <td>233000004.0</td>\n",
       "      <td>1.093366</td>\n",
       "    </tr>\n",
       "    <tr>\n",
       "      <th>2</th>\n",
       "      <td>233000005.0</td>\n",
       "      <td>0.932136</td>\n",
       "    </tr>\n",
       "  </tbody>\n",
       "</table>\n",
       "</div>"
      ],
      "text/plain": [
       "      route_id       굴곡도\n",
       "0  228000204.0  2.763846\n",
       "1  233000004.0  1.093366\n",
       "2  233000005.0  0.932136"
      ]
     },
     "execution_count": 28,
     "metadata": {},
     "output_type": "execute_result"
    }
   ],
   "source": [
    "# 굴곡도 분포 확인\n",
    "route_id = list(driving_routes.keys())\n",
    "id_gul = pd.DataFrame([route_id, gulgok]).T\n",
    "id_gul.rename(columns = {0 : 'route_id', 1 : '굴곡도'}, inplace = True)\n",
    "id_gul.reset_index(inplace = True, drop =True)\n",
    "\n",
    "# 굴곡도 데이터 저장\n",
    "id_gul.to_csv('굴곡도.csv', index = False)\n",
    "\n",
    "id_gul.head(3)"
   ]
  },
  {
   "cell_type": "code",
   "execution_count": 29,
   "metadata": {},
   "outputs": [
    {
     "data": {
      "image/png": "[encoded data removed]",
      "text/plain": [
       "<Figure size 432x288 with 1 Axes>"
      ]
     },
     "metadata": {
      "needs_background": "light"
     },
     "output_type": "display_data"
    }
   ],
   "source": [
    "plt.hist(id_gul['굴곡도'], color = 'coral')\n",
    "plt.show()"
   ]
  },
  {
   "cell_type": "markdown",
   "metadata": {},
   "source": [
    "--> 굴곡도가 10 이상인 경우도 보인다. 좀 더 자세히 보자."
   ]
  },
  {
   "cell_type": "code",
   "execution_count": 30,
   "metadata": {},
   "outputs": [
    {
     "data": {
      "image/png": "[encoded data removed]",
      "text/plain": [
       "<Figure size 432x288 with 1 Axes>"
      ]
     },
     "metadata": {
      "needs_background": "light"
     },
     "output_type": "display_data"
    }
   ],
   "source": [
    "plt.hist(id_gul[id_gul['굴곡도']<10]['굴곡도'], color = 'lightcoral', bins = 5)\n",
    "plt.show()"
   ]
  },
  {
   "cell_type": "markdown",
   "metadata": {},
   "source": [
    "--> 굴곡도가 10미만일 때의 분포 그래프이다. 굴곡도가 1에 가까울 수록 시간/비용에 있어서 최적화되어있다고 한다."
   ]
  },
  {
   "cell_type": "markdown",
   "metadata": {},
   "source": [
    "### 2. 중복도    \n",
    "\n",
    "* 중복도 = 비교 노선의 중복되는 정류장 수 / 기준노선의 정류장 수   \n",
    "* 다른 노선들과 중복이 많이 되는 노선은 수정할 필요가 있다.  \n",
    "\n",
    "<figure>\n",
    "  <figcaption> [기준 노선(key_route)과 중복되는 노선(comparative_route), 중복도(%)] </figcaption>\n",
    "  <img src=\"post1/중복도.png\" alt=\"기준노선과 중복노선 중복도\" style=\"width:30%\">\n",
    "</figure>\n",
    "\n",
    "\n",
    "## 결과 도출  \n",
    "\n",
    "* 엘보우 기법으로 최적의 K값을 찾은 뒤, 실루엣 기법으로 샘플의 수가 가장 적은 클러스터를 선택한다.  \n",
    "\n",
    "### 엘보우 기법을 이용한 최적 K값 찾기  \n",
    "\n",
    "<img src=\"post1/find_the_best_k.png\" style=\"width:70%\">\n",
    "\n",
    "\n",
    "\n",
    "최적의 K값은 3이다.   \n",
    "즉, 3개의 클러스터를 만들었을 때 클러스터 간의 거리와 클러스터 내의 샘플간의 거리가 비교적 적절하게 떨어져있다는 것을 의미한다.   \n",
    "\n",
    "\n",
    "### 실루엣 기법으로 샘플의 수가 가장적은 클러스터 선택\n",
    "\n",
    "<img src=\"post1/sil.png\" style=\"width:70%\">\n",
    "\n",
    "그래프에는 2번 클러스터라고 적혀있지만 실제로 0, 1, 2 번으로 클러스터링되기 때문에 <span style=\"color:red\">우리는 1번 클러스터를 선택</span>한다.  \n",
    "\n",
    "### 지표 개발  \n",
    "\n",
    "*  1번 클러스터 내의 샘플들 중에서 과연 우리는 몇 번 노선을 선택해야 하는지 모른다.   \n",
    "   이를 위한 지표가 필요하다. 내가 개발한 지표는 다음과 같다.  \n",
    "\n",
    "1. 각 컬럼별로 순위를 정한다.(예. 굴곡도가 가장 큰 노선의 순위는1, 가장 작은 노선의 순위는 14)  \n",
    "2. 행별로 그 순위의 평균을 구한다.  \n",
    "3. comparative_route(기존 노선과 비교했을 때 중복되는 노선)에서 중복되는 수를 분모로 취해서 가중치로 만든다.(예. 233000077은 세 번이 중복되므로 1/3) 중복되지 않는다면 1을 가중치로 한다.  \n",
    "4. 2에서 구한 평균에 3에서 구한 가중치를 곱한다.  \n",
    "\n",
    "* 아래에 간략하게 설명해놓았다.  \n",
    "  <img src=\"post1/how_to_rank.png\" style=\"width:70%\">   \n",
    "\n",
    "* 최종 결과  \n",
    "  <img src=\"post1/final_count_rank.png\" style = \"width:50%\">   \n",
    "\n",
    "Final_rank가 작을 수록 수정이 시급한 노선이다.  \n",
    "위의 결과에 따라 <span style=\"color:red\">1000번, 81번, 22-3(신경대)번 노선</span>이 수정이 필요함을 결론내린다.  \n",
    "\n",
    "\n",
    "\n",
    "\n",
    "\n"
   ]
  }
 ],
 "metadata": {
  "kernelspec": {
   "display_name": "new",
   "language": "python",
   "name": "new"
  },
  "language_info": {
   "codemirror_mode": {
    "name": "ipython",
    "version": 3
   },
   "file_extension": ".py",
   "mimetype": "text/x-python",
   "name": "python",
   "nbconvert_exporter": "python",
   "pygments_lexer": "ipython3",
   "version": "3.6.2"
  }
 },
 "nbformat": 4,
 "nbformat_minor": 5
}
